{
 "cells": [
  {
   "cell_type": "code",
   "execution_count": null,
   "metadata": {},
   "outputs": [],
   "source": [
    "from keras.models import Sequential\n",
    "from keras.layers import Dense, Dropout, LSTM\n",
    "from keras.optimizers import Adam, RMSprop, Nadam, AdaDelta\n",
    "from keras.wrappers.scikit_learn import KerasRegressor\n",
    "from sklearn.model_selection import GridSearchCV, train_test_split, KFold\n",
    "from keras.callbacks import EarlyStopping, ReduceLROnPlateau, ModelCheckpoint\n",
    "from project_utils import *\n",
    "from keras.regularizers import L1L2"
   ]
  },
  {
   "cell_type": "code",
   "execution_count": null,
   "metadata": {},
   "outputs": [],
   "source": [
    "X, Y = data_preparing('data.csv', normalization = True)\n",
    "\n",
    "train_X, val_X, train_y, val_y = train_test_split(X, Y, test_size = 0.2)"
   ]
  },
  {
   "cell_type": "code",
   "execution_count": null,
   "metadata": {},
   "outputs": [],
   "source": [
    "def create_model(n = 85, reg_input = L1L2(l1=0.0, l2=0.0), reg_bias = L1L2(l1=0.0, l2=0.0), drop_rate = 0.6):\n",
    "    print('C R E A T E   M O D E L')\n",
    "    model = Sequential()\n",
    "    model.add(LSTM(n, return_sequences=True, kernel_regularizer=reg_input, bias_regularizer=reg_bias))\n",
    "    model.add(Dropout(drop_rate))\n",
    "    model.add(LSTM(n, return_sequences=True, kernel_regularizer=reg_input, bias_regularizer=reg_bias))\n",
    "    model.add(Dropout(drop_rate))\n",
    "    model.add(LSTM(n, return_sequences=True, kernel_regularizer=reg_input, bias_regularizer=reg_bias))\n",
    "    model.add(Dropout(drop_rate))\n",
    "    model.add(LSTM(n, return_sequences=False))\n",
    "    model.add(Dense(1, activation = 'linear'))\n",
    "    # Compile model\n",
    "    model.compile(loss='mean_squared_error', optimizer=RMSprop(lr = 0.001, clipvalue=0.3),\n",
    "                  metrics=['acc', 'mean_absolute_error'])\n",
    "    return model\n",
    "\n",
    "model = KerasRegressor(build_fn=create_model, verbose=1, epochs = 50, batch_size = 6)"
   ]
  },
  {
   "cell_type": "code",
   "execution_count": null,
   "metadata": {},
   "outputs": [],
   "source": [
    "# GRID SEARCH  - testing epochs, batch, optimizer, regularization#\n",
    "batch_size = [5, 20]\n",
    "epochs = [10, 50]\n",
    "#optimizer = ['adam', 'rmsprop', 'adadelta', 'nadam']\n",
    "\n",
    "param_grid = dict(batch_size = batch_size, epochs = epochs)\n",
    "grid = GridSearchCV(cv = 3, estimator=model, param_grid=param_grid)\n",
    "grid_result = grid.fit(X, Y)\n",
    "\n",
    "# summarize results - grid_search 2\n",
    "print(\"Best: %f using %s\" % (grid_result.best_score_, grid_result.best_params_))\n",
    "means = grid_result.cv_results_['mean_test_score']\n",
    "stds = grid_result.cv_results_['std_test_score']\n",
    "params = grid_result.cv_results_['params']\n",
    "for mean, stdev, param in zip(means, stds, params):\n",
    "    print(\"%f (%f) with: %r\" % (mean, stdev, param))\n"
   ]
  },
  {
   "cell_type": "code",
   "execution_count": null,
   "metadata": {},
   "outputs": [],
   "source": [
    "# define the grid search parameters - testing regularizers\n",
    "\n",
    "reg_input = [L1L2(l1=0.0, l2=0.0), L1L2(l1=0.01, l2=0.0), L1L2(l1=0.0, l2=0.01), L1L2(l1=0.01, l2=0.01)]\n",
    "reg_bias = [L1L2(l1=0.0, l2=0.0), L1L2(l1=0.01, l2=0.0), L1L2(l1=0.0, l2=0.01), L1L2(l1=0.01, l2=0.01)]\n",
    "#reg_recurr = [L1L2(l1=0.0, l2=0.0), L1L2(l1=0.01, l2=0.0), L1L2(l1=0.0, l2=0.01), L1L2(l1=0.01, l2=0.01)]\n",
    "#drop = [0.0, 0.2, 0.4, 0.6]\n",
    "\n",
    "param_grid = dict(reg_input = reg_input, reg_bias = reg_bias)\n",
    "grid = GridSearchCV(cv = 2, estimator=model, param_grid=param_grid)\n",
    "grid_result = grid.fit(X, Y)\n",
    "\n",
    "# summarize results - grid_search 1\n",
    "print(\"Best: %f using %s\" % (grid_result.best_score_, grid_result.best_params_))\n",
    "means = grid_result.cv_results_['mean_test_score']\n",
    "stds = grid_result.cv_results_['std_test_score']\n",
    "params = grid_result.cv_results_['params']\n",
    "for mean, stdev, param in zip(means, stds, params):\n",
    "    print(\"%f (%f) with: %r\" % (mean, stdev, param))"
   ]
  },
  {
   "cell_type": "code",
   "execution_count": null,
   "metadata": {},
   "outputs": [],
   "source": [
    "# Define Callbacks\n",
    "early_stopping = EarlyStopping(patience = 18, restore_best_weights=True)\n",
    "reduce_lr_on_plateau = ReduceLROnPlateau(patience = 15, verbose=1)\n",
    "model_checkpoint = ModelCheckpoint('fas_mnist_1.h5', monitor = 'val_mean_absolute_error', verbose=1, save_best_only=True)"
   ]
  },
  {
   "cell_type": "code",
   "execution_count": null,
   "metadata": {},
   "outputs": [],
   "source": [
    "# train the LSTM model - single training (one-fold)\n",
    "model = create_model()\n",
    "history = model.fit(train_X, train_y, validation_data = (val_X, val_y), epochs = 180, batch_size = 4, callbacks = \n",
    "                    [early_stopping, reduce_lr_on_plateau, model_checkpoint])\n",
    "#evaluate model\n",
    "score = model.evaluate()\n",
    "\n",
    "#plot results \n",
    "plot_cv_history(history)"
   ]
  },
  {
   "cell_type": "code",
   "execution_count": null,
   "metadata": {},
   "outputs": [],
   "source": [
    "# train the LSTM model - K-fold cross validation test\n",
    "\n",
    "# define 6-fold cross validation test harness\n",
    "splits = 6\n",
    "kfold = KFold(n_splits=splits, shuffle = True)\n",
    "\n",
    "# save CV results\n",
    "cvscores = []\n",
    "model_history = [] \n",
    "\n",
    "for train, test in kfold.split(X, Y):\n",
    "      \n",
    "    # model create and compile\n",
    "    model = create_model()\n",
    "    # model fit\n",
    "    history = model.fit(X[train], Y[train], validation_data = (X[test], Y[test]), epochs=110, batch_size=4, verbose=1,\n",
    "             callbacks = [early_stopping, reduce_lr_on_plateau, model_checkpoint])\n",
    "    # evaluate the model\n",
    "    scores = model.evaluate(X[test], Y[test], verbose=1)\n",
    "    print(\"%s: %.2f\" % (model.metrics_names[2], scores[2]))\n",
    "    cvscores.append(scores[2])\n",
    "    model_history.append(history)\n",
    "print(\"mean MAE: s%.2f (+/- %.2f)\" % (np.mean(cvscores), np.std(cvscores)))\n",
    "\n",
    "#plot results \n",
    "plot_cv_history(history, cv = splits)\n",
    "\n",
    "# save history to Data Frame and csv file\n",
    "historyDataFrame = pd.DataFrame()\n",
    "for i in range(splits):\n",
    "    historyDataFrame['Loss_{}'.format(i)] = pd.Series(model_history[i].history['loss'])\n",
    "    historyDataFrame['val_Loss_{}'.format(i)] = pd.Series(model_history[i].history['val_loss'])\n",
    "    historyDataFrame['Mae_{}'.format(i)] = pd.Series(model_history[i].history['mean_absolute_error'])\n",
    "    historyDataFrame['val_Mae_{}'.format(i)] = pd.Series(model_history[i].history['val_mean_absolute_error'])\n",
    "    \n",
    "historyDataFrame.to_csv('model_history.csv')"
   ]
  },
  {
   "cell_type": "code",
   "execution_count": null,
   "metadata": {},
   "outputs": [],
   "source": [
    "model.summary()"
   ]
  }
 ],
 "metadata": {
  "kernelspec": {
   "display_name": "Python 3",
   "language": "python",
   "name": "python3"
  },
  "language_info": {
   "codemirror_mode": {
    "name": "ipython",
    "version": 3
   },
   "file_extension": ".py",
   "mimetype": "text/x-python",
   "name": "python",
   "nbconvert_exporter": "python",
   "pygments_lexer": "ipython3",
   "version": "3.7.3"
  }
 },
 "nbformat": 4,
 "nbformat_minor": 2
}
