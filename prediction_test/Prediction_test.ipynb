{
 "cells": [
  {
   "cell_type": "code",
   "execution_count": null,
   "metadata": {},
   "outputs": [],
   "source": [
    "from keras.models import Sequential\n",
    "from keras.layers import Dense, Dropout, LSTM\n",
    "from keras.optimizers import Adam, RMSprop, Nadam, AdaDelta\n",
    "from sklearn.model_selection import train_test_split, KFold\n",
    "from keras.callbacks import EarlyStopping, ReduceLROnPlateau, ModelCheckpoint\n",
    "from project_utils import *\n",
    "from keras.regularizers import L1L2"
   ]
  },
  {
   "cell_type": "code",
   "execution_count": null,
   "metadata": {},
   "outputs": [],
   "source": [
    "# prepare data to LSTM model\n",
    "\n",
    "X, Y = prepare_data('dane.csv', normalization = True)"
   ]
  },
  {
   "cell_type": "code",
   "execution_count": null,
   "metadata": {},
   "outputs": [],
   "source": [
    "# split data into train and test set\n",
    "\n",
    "train_X, val_X, train_y, val_y = train_test_split(X, Y, test_size = 0.26)"
   ]
  },
  {
   "cell_type": "code",
   "execution_count": null,
   "metadata": {},
   "outputs": [],
   "source": [
    "def create_model(n = 85, drop_rate = 0.6):\n",
    "    print('C R E A T E   M O D E L')\n",
    "    model = Sequential()\n",
    "    model.add(LSTM(n, return_sequences=True, input_shape = (X.shape[1], X.shape[2])))\n",
    "    model.add(Dropout(drop_rate))\n",
    "    model.add(LSTM(n, return_sequences=True))\n",
    "    model.add(Dropout(drop_rate))\n",
    "    model.add(LSTM(n, return_sequences=False))\n",
    "    model.add(Dense(1, activation = 'linear'))\n",
    "    # Compile model\n",
    "    model.compile(loss='mean_squared_error', optimizer=RMSprop(lr = 0.001),\n",
    "                  metrics=['acc', 'mean_absolute_error'])\n",
    "    return model"
   ]
  },
  {
   "cell_type": "code",
   "execution_count": null,
   "metadata": {},
   "outputs": [],
   "source": [
    "# load saved weights\n",
    "\n",
    "model.load_weights(\"weights.h5\")"
   ]
  },
  {
   "cell_type": "code",
   "execution_count": null,
   "metadata": {},
   "outputs": [],
   "source": [
    "predictions = model.predict(val_X)\n",
    "print(\"ground truth:\\tpredicted:\")\n",
    "print(np.hstack([val_y, predictions]))"
   ]
  },
  {
   "cell_type": "code",
   "execution_count": null,
   "metadata": {},
   "outputs": [],
   "source": [
    "# plot result\n",
    "plt.plot(predictions, 'ro--', markersize = 8)\n",
    "plt.plot(val_y, 'k^:', markersize = 8)\n",
    "plt.title('Model Predictions')\n",
    "plt.ylabel('Y [kg]')\n",
    "plt.xlabel('predictions')\n",
    "plt.legend(['Predicted', 'ground truth'], loc='upper left')"
   ]
  },
  {
   "cell_type": "code",
   "execution_count": null,
   "metadata": {},
   "outputs": [],
   "source": []
  }
 ],
 "metadata": {
  "kernelspec": {
   "display_name": "Python 3",
   "language": "python",
   "name": "python3"
  },
  "language_info": {
   "codemirror_mode": {
    "name": "ipython",
    "version": 3
   },
   "file_extension": ".py",
   "mimetype": "text/x-python",
   "name": "python",
   "nbconvert_exporter": "python",
   "pygments_lexer": "ipython3",
   "version": "3.7.3"
  }
 },
 "nbformat": 4,
 "nbformat_minor": 2
}
